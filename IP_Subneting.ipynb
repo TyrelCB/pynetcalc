{
 "cells": [
  {
   "cell_type": "markdown",
   "id": "cabc4887-3cbe-49db-886f-d1af182a007f",
   "metadata": {
    "tags": []
   },
   "source": [
    "# Big-Endian (BE) vs Little-Endian (LE)\n",
    "\n",
    "*Most Network Protocols use Big-Endian*\n",
    "\n",
    "- Big Endian has the **most** significant bits are on the left\n",
    "- Little Endian has the **least** significant bits are on the left\n",
    "\n",
    "### Decimal Bit Values in an Octet:\n",
    "\n",
    "| Endian |  |  |  |  |  |  |  |  |\n",
    "| --- | --- | --- | --- | --- | --- | --- | --- | --- |\n",
    "| BE | 128 | 64 | 32 | 16 | 8 | 4 | 2 | 1 | \n",
    "| LE | 1 | 2 | 4 | 8 | 16 | 32 | 64 | 128\n",
    "\n",
    "### Lets Take a Look at the Number 3 in Binary\n",
    "\n",
    "    BE: 00000011\n",
    "    LE: 11000000\n",
    "    \n",
    "\n"
   ]
  },
  {
   "cell_type": "markdown",
   "id": "0ec59751-91e6-47ac-a5ca-c63c563a0de0",
   "metadata": {},
   "source": [
    "# Formula: 2^N\n",
    "\n",
    "#### N = Number of Bits\n",
    "\n",
    "    2^0 = 1\n",
    "    2^1 = 2\n",
    "    2^2 = 4\n",
    "    2^3 = 8\n",
    "    2^4 = 16\n",
    "    2^5 = 32\n",
    "    2^6 = 64\n",
    "    2^7 = 128"
   ]
  },
  {
   "cell_type": "code",
   "execution_count": 1,
   "id": "068390c1-4d49-4fe6-91c0-7f421021292d",
   "metadata": {
    "tags": []
   },
   "outputs": [
    {
     "name": "stdout",
     "output_type": "stream",
     "text": [
      "2^0  = 1              /32\n",
      "2^1  = 2              /31\n",
      "2^2  = 4              /30\n",
      "2^3  = 8              /29\n",
      "2^4  = 16             /28\n",
      "2^5  = 32             /27\n",
      "2^6  = 64             /26\n",
      "2^7  = 128            /25\n",
      "2^8  = 256            /24\n",
      "2^9  = 512            /23\n",
      "2^10 = 1,024          /22\n",
      "2^11 = 2,048          /21\n",
      "2^12 = 4,096          /20\n",
      "2^13 = 8,192          /19\n",
      "2^14 = 16,384         /18\n",
      "2^15 = 32,768         /17\n",
      "2^16 = 65,536         /16\n",
      "2^17 = 131,072        /15\n",
      "2^18 = 262,144        /14\n",
      "2^19 = 524,288        /13\n",
      "2^20 = 1,048,576      /12\n",
      "2^21 = 2,097,152      /11\n",
      "2^22 = 4,194,304      /10\n",
      "2^23 = 8,388,608      /9\n",
      "2^24 = 16,777,216     /8\n",
      "2^25 = 33,554,432     /7\n",
      "2^26 = 67,108,864     /6\n",
      "2^27 = 134,217,728    /5\n",
      "2^28 = 268,435,456    /4\n",
      "2^29 = 536,870,912    /3\n",
      "2^30 = 1,073,741,824  /2\n",
      "2^31 = 2,147,483,648  /1\n",
      "2^32 = 4,294,967,296  /0\n"
     ]
    }
   ],
   "source": [
    "# 2^N Chart with CIDR notation\n",
    "for n in range(33):\n",
    "    # cidr = f''\n",
    "    print(f'2^{n:<2} = {2**n:<14,} /{32-n}')"
   ]
  },
  {
   "cell_type": "markdown",
   "id": "28f29d56-1850-421f-b275-daa43ac69c6e",
   "metadata": {},
   "source": [
    "# Python IP Network Calculator"
   ]
  },
  {
   "cell_type": "code",
   "execution_count": 2,
   "id": "c9d75bd6-028f-48c6-91a2-c732833a18e9",
   "metadata": {},
   "outputs": [],
   "source": [
    "import ipaddress"
   ]
  },
  {
   "cell_type": "code",
   "execution_count": 3,
   "id": "f8d840a5-4845-46cc-a034-e34b16732413",
   "metadata": {},
   "outputs": [],
   "source": [
    "def netinfo(ipv4=None, octets=False):\n",
    "    if ipv4 == None:\n",
    "        prompt = '''\n",
    "        Acceptable Formats:\n",
    "            CIDR Notation 10.0.0.1/8\n",
    "            With Netmask  10.0.0.1/255.0.0.0\n",
    "        Enter an IPv4 address: '''\n",
    "        ipv4 = input(prompt)\n",
    "        if ipv4 == '': \n",
    "            ipv4 = '10.10.10.10/22'\n",
    "            print(f\"You Didn't Enter and IP! Using Default {ipv4}\")\n",
    "    ip = ipaddress.ip_interface(ipv4)\n",
    "    print()\n",
    "    print(f'IP is Private    : {ip.is_private} (RFC1918)')\n",
    "    print(f'IP is Global     : {ip.is_global}')\n",
    "    print(f'IP is Loopback   : {ip.is_loopback} (RFC3330)')\n",
    "    print(f'IP is Multicast  : {ip.is_multicast} (RFC3171)')\n",
    "    print(f'IP is Link Local : {ip.is_link_local} (APIPA RFC3927)')\n",
    "    print()\n",
    "    print(f'Decimal Value: {int(ip)}')\n",
    "    print(f'HEX     Value: {hex(int(ip))}')\n",
    "    if octets:\n",
    "        binary = f'{int(ip):032b}'\n",
    "        binary = f'{binary[:8]}.{binary[8:16]}.{binary[16:24]}.{binary[24:32]}'\n",
    "        print(f'Binary  Value: {binary}')\n",
    "        netmask = f'{int(ip.netmask):032b}'\n",
    "        netmask = f'{netmask[:8]}.{netmask[8:16]}.{netmask[16:24]}.{netmask[24:32]}'\n",
    "        print(f'Netmask      : {netmask}')\n",
    "        anded = f'{int(ip)&int(ip.netmask):032b}'\n",
    "        anded = f'{anded[:8]}.{anded[8:16]}.{anded[16:24]}.{anded[24:32]}'\n",
    "        print(f'Bitwise AND  : {anded}')\n",
    "        hostmask = f'{int(ip.hostmask):032b}'\n",
    "        hostmask = f'{hostmask[:8]}.{hostmask[8:16]}.{hostmask[16:24]}.{hostmask[24:32]}'\n",
    "        print(f'Hostmask     : {hostmask}')        \n",
    "    else:\n",
    "        print(f'Binary  Value: {int(ip):032b}')\n",
    "        print(f'Netmask      : {int(ip.netmask):032b}')\n",
    "        # print(f'Hostmask     : {int(ip.hostmask):032b}')\n",
    "        print(f'Bitwise XOR  : {int(ip)^int(ip.netmask):032b}')\n",
    "        print(f'Bitwise AND  : {int(ip)&int(ip.netmask):032b}')\n",
    "    print()\n",
    "    print(f'Network Address  : {ip.network[0]}')\n",
    "    print(f'First Usable     : {ip.network[1]}')\n",
    "    print(f'Last  Usable     : {ip.network[-2]}')\n",
    "    print(f'Broadcast Address: {ip.network[-1]}')\n",
    "    print(f'Subnet Mask      : {ip.netmask}')\n",
    "    print(f'Host Mask        : {ip.hostmask}')\n",
    "    print(f'Usable Addresses : {ip.network.num_addresses-2:,}')\n",
    "    print()\n",
    "    return ip"
   ]
  },
  {
   "cell_type": "code",
   "execution_count": 4,
   "id": "08383f1c-f5d1-4961-a814-9ce3f03c73a0",
   "metadata": {},
   "outputs": [
    {
     "name": "stdout",
     "output_type": "stream",
     "text": [
      "\n",
      "IP is Private    : True (RFC1918)\n",
      "IP is Global     : False\n",
      "IP is Loopback   : False (RFC3330)\n",
      "IP is Multicast  : False (RFC3171)\n",
      "IP is Link Local : False (APIPA RFC3927)\n",
      "\n",
      "Decimal Value: 167841792\n",
      "HEX     Value: 0xa011000\n",
      "Binary  Value: 00001010.00000001.00010000.00000000\n",
      "Netmask      : 11111111.11111111.11110000.00000000\n",
      "Bitwise AND  : 00001010.00000001.00010000.00000000\n",
      "Hostmask     : 00000000.00000000.00001111.11111111\n",
      "\n",
      "Network Address  : 10.1.16.0\n",
      "First Usable     : 10.1.16.1\n",
      "Last  Usable     : 10.1.31.254\n",
      "Broadcast Address: 10.1.31.255\n",
      "Subnet Mask      : 255.255.240.0\n",
      "Host Mask        : 0.0.15.255\n",
      "Usable Addresses : 4,094\n",
      "\n"
     ]
    }
   ],
   "source": [
    "ip = netinfo('10.1.16.0/20',octets=1)"
   ]
  },
  {
   "cell_type": "code",
   "execution_count": 5,
   "id": "4d35d609-538c-4751-ae06-0a137ad56102",
   "metadata": {
    "collapsed": true,
    "jupyter": {
     "outputs_hidden": true
    },
    "tags": []
   },
   "outputs": [
    {
     "name": "stdout",
     "output_type": "stream",
     "text": [
      "Bin 00000000 = Dec   0 = Hex 0 \n",
      "Bin 00000001 = Dec   1 = Hex 1 \n",
      "Bin 00000010 = Dec   2 = Hex 2 \n",
      "Bin 00000011 = Dec   3 = Hex 3 \n",
      "Bin 00000100 = Dec   4 = Hex 4 \n",
      "Bin 00000101 = Dec   5 = Hex 5 \n",
      "Bin 00000110 = Dec   6 = Hex 6 \n",
      "Bin 00000111 = Dec   7 = Hex 7 \n",
      "Bin 00001000 = Dec   8 = Hex 8 \n",
      "Bin 00001001 = Dec   9 = Hex 9 \n",
      "Bin 00001010 = Dec  10 = Hex a \n",
      "Bin 00001011 = Dec  11 = Hex b \n",
      "Bin 00001100 = Dec  12 = Hex c \n",
      "Bin 00001101 = Dec  13 = Hex d \n",
      "Bin 00001110 = Dec  14 = Hex e \n",
      "Bin 00001111 = Dec  15 = Hex f \n",
      "Bin 00010000 = Dec  16 = Hex 10\n",
      "Bin 00010001 = Dec  17 = Hex 11\n",
      "Bin 00010010 = Dec  18 = Hex 12\n",
      "Bin 00010011 = Dec  19 = Hex 13\n",
      "Bin 00010100 = Dec  20 = Hex 14\n",
      "Bin 00010101 = Dec  21 = Hex 15\n",
      "Bin 00010110 = Dec  22 = Hex 16\n",
      "Bin 00010111 = Dec  23 = Hex 17\n",
      "Bin 00011000 = Dec  24 = Hex 18\n",
      "Bin 00011001 = Dec  25 = Hex 19\n",
      "Bin 00011010 = Dec  26 = Hex 1a\n",
      "Bin 00011011 = Dec  27 = Hex 1b\n",
      "Bin 00011100 = Dec  28 = Hex 1c\n",
      "Bin 00011101 = Dec  29 = Hex 1d\n",
      "Bin 00011110 = Dec  30 = Hex 1e\n",
      "Bin 00011111 = Dec  31 = Hex 1f\n",
      "Bin 00100000 = Dec  32 = Hex 20\n",
      "Bin 00100001 = Dec  33 = Hex 21\n",
      "Bin 00100010 = Dec  34 = Hex 22\n",
      "Bin 00100011 = Dec  35 = Hex 23\n",
      "Bin 00100100 = Dec  36 = Hex 24\n",
      "Bin 00100101 = Dec  37 = Hex 25\n",
      "Bin 00100110 = Dec  38 = Hex 26\n",
      "Bin 00100111 = Dec  39 = Hex 27\n",
      "Bin 00101000 = Dec  40 = Hex 28\n",
      "Bin 00101001 = Dec  41 = Hex 29\n",
      "Bin 00101010 = Dec  42 = Hex 2a\n",
      "Bin 00101011 = Dec  43 = Hex 2b\n",
      "Bin 00101100 = Dec  44 = Hex 2c\n",
      "Bin 00101101 = Dec  45 = Hex 2d\n",
      "Bin 00101110 = Dec  46 = Hex 2e\n",
      "Bin 00101111 = Dec  47 = Hex 2f\n",
      "Bin 00110000 = Dec  48 = Hex 30\n",
      "Bin 00110001 = Dec  49 = Hex 31\n",
      "Bin 00110010 = Dec  50 = Hex 32\n",
      "Bin 00110011 = Dec  51 = Hex 33\n",
      "Bin 00110100 = Dec  52 = Hex 34\n",
      "Bin 00110101 = Dec  53 = Hex 35\n",
      "Bin 00110110 = Dec  54 = Hex 36\n",
      "Bin 00110111 = Dec  55 = Hex 37\n",
      "Bin 00111000 = Dec  56 = Hex 38\n",
      "Bin 00111001 = Dec  57 = Hex 39\n",
      "Bin 00111010 = Dec  58 = Hex 3a\n",
      "Bin 00111011 = Dec  59 = Hex 3b\n",
      "Bin 00111100 = Dec  60 = Hex 3c\n",
      "Bin 00111101 = Dec  61 = Hex 3d\n",
      "Bin 00111110 = Dec  62 = Hex 3e\n",
      "Bin 00111111 = Dec  63 = Hex 3f\n",
      "Bin 01000000 = Dec  64 = Hex 40\n",
      "Bin 01000001 = Dec  65 = Hex 41\n",
      "Bin 01000010 = Dec  66 = Hex 42\n",
      "Bin 01000011 = Dec  67 = Hex 43\n",
      "Bin 01000100 = Dec  68 = Hex 44\n",
      "Bin 01000101 = Dec  69 = Hex 45\n",
      "Bin 01000110 = Dec  70 = Hex 46\n",
      "Bin 01000111 = Dec  71 = Hex 47\n",
      "Bin 01001000 = Dec  72 = Hex 48\n",
      "Bin 01001001 = Dec  73 = Hex 49\n",
      "Bin 01001010 = Dec  74 = Hex 4a\n",
      "Bin 01001011 = Dec  75 = Hex 4b\n",
      "Bin 01001100 = Dec  76 = Hex 4c\n",
      "Bin 01001101 = Dec  77 = Hex 4d\n",
      "Bin 01001110 = Dec  78 = Hex 4e\n",
      "Bin 01001111 = Dec  79 = Hex 4f\n",
      "Bin 01010000 = Dec  80 = Hex 50\n",
      "Bin 01010001 = Dec  81 = Hex 51\n",
      "Bin 01010010 = Dec  82 = Hex 52\n",
      "Bin 01010011 = Dec  83 = Hex 53\n",
      "Bin 01010100 = Dec  84 = Hex 54\n",
      "Bin 01010101 = Dec  85 = Hex 55\n",
      "Bin 01010110 = Dec  86 = Hex 56\n",
      "Bin 01010111 = Dec  87 = Hex 57\n",
      "Bin 01011000 = Dec  88 = Hex 58\n",
      "Bin 01011001 = Dec  89 = Hex 59\n",
      "Bin 01011010 = Dec  90 = Hex 5a\n",
      "Bin 01011011 = Dec  91 = Hex 5b\n",
      "Bin 01011100 = Dec  92 = Hex 5c\n",
      "Bin 01011101 = Dec  93 = Hex 5d\n",
      "Bin 01011110 = Dec  94 = Hex 5e\n",
      "Bin 01011111 = Dec  95 = Hex 5f\n",
      "Bin 01100000 = Dec  96 = Hex 60\n",
      "Bin 01100001 = Dec  97 = Hex 61\n",
      "Bin 01100010 = Dec  98 = Hex 62\n",
      "Bin 01100011 = Dec  99 = Hex 63\n",
      "Bin 01100100 = Dec 100 = Hex 64\n",
      "Bin 01100101 = Dec 101 = Hex 65\n",
      "Bin 01100110 = Dec 102 = Hex 66\n",
      "Bin 01100111 = Dec 103 = Hex 67\n",
      "Bin 01101000 = Dec 104 = Hex 68\n",
      "Bin 01101001 = Dec 105 = Hex 69\n",
      "Bin 01101010 = Dec 106 = Hex 6a\n",
      "Bin 01101011 = Dec 107 = Hex 6b\n",
      "Bin 01101100 = Dec 108 = Hex 6c\n",
      "Bin 01101101 = Dec 109 = Hex 6d\n",
      "Bin 01101110 = Dec 110 = Hex 6e\n",
      "Bin 01101111 = Dec 111 = Hex 6f\n",
      "Bin 01110000 = Dec 112 = Hex 70\n",
      "Bin 01110001 = Dec 113 = Hex 71\n",
      "Bin 01110010 = Dec 114 = Hex 72\n",
      "Bin 01110011 = Dec 115 = Hex 73\n",
      "Bin 01110100 = Dec 116 = Hex 74\n",
      "Bin 01110101 = Dec 117 = Hex 75\n",
      "Bin 01110110 = Dec 118 = Hex 76\n",
      "Bin 01110111 = Dec 119 = Hex 77\n",
      "Bin 01111000 = Dec 120 = Hex 78\n",
      "Bin 01111001 = Dec 121 = Hex 79\n",
      "Bin 01111010 = Dec 122 = Hex 7a\n",
      "Bin 01111011 = Dec 123 = Hex 7b\n",
      "Bin 01111100 = Dec 124 = Hex 7c\n",
      "Bin 01111101 = Dec 125 = Hex 7d\n",
      "Bin 01111110 = Dec 126 = Hex 7e\n",
      "Bin 01111111 = Dec 127 = Hex 7f\n",
      "Bin 10000000 = Dec 128 = Hex 80\n"
     ]
    }
   ],
   "source": [
    "# Binary Decimal Hex Chart\n",
    "for i in range(0,129):\n",
    "    print(f'Bin {i:08b} = Dec {i:>3} = Hex {i:<2x}')"
   ]
  },
  {
   "cell_type": "markdown",
   "id": "bede4b59-7021-4cf5-9fd4-a2e11f901743",
   "metadata": {},
   "source": [
    "# Subneting"
   ]
  },
  {
   "cell_type": "code",
   "execution_count": 6,
   "id": "05c3d88a-e690-4e55-92c5-45451aa63a18",
   "metadata": {},
   "outputs": [],
   "source": [
    "def subnet(ip_net='172.16.0.0/24', new_prefix='/27'):\n",
    "    net = ipaddress.ip_interface(ip_net)\n",
    "    diff = int(new_prefix[-2:]) - int(ip_net[-2:])\n",
    "    net = list(net.network.subnets(prefixlen_diff=diff))\n",
    "    print(f'Networks = {len(net)}')\n",
    "    print(f'Hosts Per Network = {len(list(net[0].hosts())):,}')\n",
    "    print(f'Subnet Mask {net[0].netmask}')\n",
    "    for subnet in net:\n",
    "        print(f'{net.index(subnet):>5} - {subnet}')\n",
    "        # print(f'First Usable: {}')"
   ]
  },
  {
   "cell_type": "code",
   "execution_count": 7,
   "id": "e9b8ee11-60e2-4bad-9be2-f6f561a95b0a",
   "metadata": {},
   "outputs": [
    {
     "name": "stdout",
     "output_type": "stream",
     "text": [
      "\n",
      "IP is Private    : False (RFC1918)\n",
      "IP is Global     : True\n",
      "IP is Loopback   : False (RFC3330)\n",
      "IP is Multicast  : False (RFC3171)\n",
      "IP is Link Local : False (APIPA RFC3927)\n",
      "\n",
      "Decimal Value: 1342177280\n",
      "HEX     Value: 0x50000000\n",
      "Binary  Value: 01010000.00000000.00000000.00000000\n",
      "Netmask      : 11111111.11111111.00000000.00000000\n",
      "Bitwise AND  : 01010000.00000000.00000000.00000000\n",
      "Hostmask     : 00000000.00000000.11111111.11111111\n",
      "\n",
      "Network Address  : 80.0.0.0\n",
      "First Usable     : 80.0.0.1\n",
      "Last  Usable     : 80.0.255.254\n",
      "Broadcast Address: 80.0.255.255\n",
      "Subnet Mask      : 255.255.0.0\n",
      "Host Mask        : 0.0.255.255\n",
      "Usable Addresses : 65,534\n",
      "\n"
     ]
    }
   ],
   "source": [
    "ip = netinfo('80.0.0.0/16',octets=1)"
   ]
  },
  {
   "cell_type": "code",
   "execution_count": 8,
   "id": "b85d2339-998d-4d37-a621-cf76b6174f04",
   "metadata": {},
   "outputs": [
    {
     "name": "stdout",
     "output_type": "stream",
     "text": [
      "Networks = 8\n",
      "Hosts Per Network = 8,190\n",
      "Subnet Mask 255.255.224.0\n",
      "    0 - 80.0.0.0/19\n",
      "    1 - 80.0.32.0/19\n",
      "    2 - 80.0.64.0/19\n",
      "    3 - 80.0.96.0/19\n",
      "    4 - 80.0.128.0/19\n",
      "    5 - 80.0.160.0/19\n",
      "    6 - 80.0.192.0/19\n",
      "    7 - 80.0.224.0/19\n"
     ]
    }
   ],
   "source": [
    "subnet('80.0.0.0/16', '/19')"
   ]
  },
  {
   "cell_type": "code",
   "execution_count": null,
   "id": "a3149311-9913-40fb-be4c-d3c92c7502a4",
   "metadata": {},
   "outputs": [],
   "source": []
  }
 ],
 "metadata": {
  "kernelspec": {
   "display_name": "Python 3 (ipykernel)",
   "language": "python",
   "name": "python3"
  },
  "language_info": {
   "codemirror_mode": {
    "name": "ipython",
    "version": 3
   },
   "file_extension": ".py",
   "mimetype": "text/x-python",
   "name": "python",
   "nbconvert_exporter": "python",
   "pygments_lexer": "ipython3",
   "version": "3.10.5"
  }
 },
 "nbformat": 4,
 "nbformat_minor": 5
}
